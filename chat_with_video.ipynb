{
 "cells": [
  {
   "cell_type": "code",
   "execution_count": 16,
   "id": "ddc1cab0",
   "metadata": {},
   "outputs": [],
   "source": [
    "from youtube_transcript_api import YouTubeTranscriptApi\n",
    "from youtube_transcript_api._errors import NoTranscriptFound\n",
    "from urllib.parse import urlparse, parse_qs\n",
    "import google.generativeai as genai\n",
    "import requests\n",
    "import re"
   ]
  },
  {
   "cell_type": "code",
   "execution_count": 17,
   "id": "47b84a08",
   "metadata": {},
   "outputs": [],
   "source": [
    "def extract_video_id(url):\n",
    "    \"\"\"Extracts the video ID from any YouTube URL format.\"\"\"\n",
    "    parsed = urlparse(url)\n",
    "\n",
    "    # Case 1: Standard desktop link\n",
    "    if \"v\" in parse_qs(parsed.query):\n",
    "        return parse_qs(parsed.query)[\"v\"][0]\n",
    "\n",
    "    # Case 2: Short link\n",
    "    if parsed.netloc == \"youtu.be\":\n",
    "        return parsed.path.strip(\"/\")\n",
    "\n",
    "    return None\n"
   ]
  },
  {
   "cell_type": "code",
   "execution_count": 18,
   "id": "b72d294d",
   "metadata": {},
   "outputs": [],
   "source": [
    "def get_video_metadata(video_id):\n",
    "    \"\"\"Returns the video title and channel name using YouTube oEmbed.\"\"\"\n",
    "    try:\n",
    "        url = f\"https://www.youtube.com/oembed?url=https://www.youtube.com/watch?v={video_id}&format=json\"\n",
    "        response = requests.get(url)\n",
    "        if response.status_code == 200:\n",
    "            data = response.json()\n",
    "            title = data.get(\"title\", \"Unknown Title\")\n",
    "            author = data.get(\"author_name\", \"Unknown Channel\")\n",
    "            return title, author\n",
    "        else:\n",
    "            return \"Title not found\", \"Channel not found\"\n",
    "    except Exception as e:\n",
    "        return f\"Error: {e}\", \"Channel unavailable\""
   ]
  },
  {
   "cell_type": "code",
   "execution_count": 19,
   "id": "c55a04f0",
   "metadata": {},
   "outputs": [],
   "source": [
    "def get_available_transcript_languages(video_id):\n",
    "    \"\"\"Returns a list of available transcript languages.\"\"\"\n",
    "    try:\n",
    "        transcript_list = YouTubeTranscriptApi.list_transcripts(video_id)\n",
    "        languages = [t.language for t in transcript_list]\n",
    "        return languages\n",
    "    except NoTranscriptFound:\n",
    "        return []\n",
    "    except Exception as e:\n",
    "        return f\"Error fetching transcript list: {e}\""
   ]
  },
  {
   "cell_type": "code",
   "execution_count": 20,
   "id": "1f3446f1",
   "metadata": {},
   "outputs": [],
   "source": [
    "def get_best_transcript_language(video_id):\n",
    "    \"\"\"Returns the language of the best available transcript (manual preferred).\"\"\"\n",
    "    try:\n",
    "        transcript_list = YouTubeTranscriptApi.list_transcripts(video_id)\n",
    "        for t in transcript_list:\n",
    "            if not t.is_generated:\n",
    "                return t.language\n",
    "        # If no manual transcript is found, return the language of the first one if available\n",
    "        for t in transcript_list:\n",
    "            return t.language\n",
    "        return \"No transcript available\"\n",
    "    except NoTranscriptFound:\n",
    "        return \"No transcript available\"\n",
    "    except Exception as e:\n",
    "        return f\"Error fetching transcript list: {e}\""
   ]
  },
  {
   "cell_type": "code",
   "execution_count": 21,
   "id": "65f6f2a0",
   "metadata": {},
   "outputs": [],
   "source": [
    "def get_youtube_transcript_text(video_id):\n",
    "    \"\"\"Fetches the text of the best available transcript.\"\"\"\n",
    "    try:\n",
    "        transcript_list = YouTubeTranscriptApi.list_transcripts(video_id)\n",
    "        selected_transcript = None\n",
    "        for t in transcript_list:\n",
    "            if not t.is_generated:\n",
    "                selected_transcript = t\n",
    "                break\n",
    "        if selected_transcript is None and transcript_list:\n",
    "            selected_transcript = list(transcript_list)[0]\n",
    "            print(f\"Selected auto-generated transcript: {selected_transcript.language}\")\n",
    "        elif selected_transcript:\n",
    "            print(f\"Selected manual transcript: {selected_transcript.language}\")\n",
    "        else:\n",
    "            print(\"No suitable transcript found in the list.\")\n",
    "            return \"No transcript text available\"\n",
    "\n",
    "        if selected_transcript:\n",
    "            transcript_entries = selected_transcript.fetch()\n",
    "            transcript_text = \" \".join([entry.text for entry in transcript_entries])\n",
    "            return transcript_text\n",
    "        else:\n",
    "            return \"No transcript text available\"\n",
    "\n",
    "    except NoTranscriptFound:\n",
    "        print(f\"NoTranscriptFound for video ID: {video_id}\")\n",
    "        return \"No transcript found for this video.\"\n",
    "    except Exception as e:\n",
    "        print(f\"Error fetching transcript for video ID {video_id}: {e}\")\n",
    "        return f\"Error fetching transcript: {e}\""
   ]
  },
  {
   "cell_type": "code",
   "execution_count": 22,
   "id": "8caf1e78",
   "metadata": {},
   "outputs": [],
   "source": [
    "def detect_video_type(transcript_preview):\n",
    "    \"\"\"Rudimentary function to detect video type based on a short transcript preview.\"\"\"\n",
    "    educational_keywords = [\"learn\", \"explain\", \"tutorial\", \"guide\", \"concept\", \"theory\"]\n",
    "    motivational_keywords = [\"inspire\", \"motivate\", \"success\", \"achieve\", \"dream\", \"believe\"]\n",
    "    product_keywords = [\"review\", \"features\", \"demo\", \"unboxing\", \"test\", \"comparison\"]\n",
    "    news_keywords = [\"breaking\", \"report\", \"update\", \"news\", \"politics\", \"world\"]\n",
    "\n",
    "    preview_lower = transcript_preview.lower()\n",
    "\n",
    "    if any(keyword in preview_lower for keyword in educational_keywords):\n",
    "        return \"educational\"\n",
    "    elif any(keyword in preview_lower for keyword in motivational_keywords):\n",
    "        return \"motivational\"\n",
    "    elif any(keyword in preview_lower for keyword in product_keywords):\n",
    "        return \"product review/tutorial\"\n",
    "    elif any(keyword in preview_lower for keyword in news_keywords):\n",
    "        return \"news/analysis\"\n",
    "    else:\n",
    "        return \"general\""
   ]
  },
  {
   "cell_type": "code",
   "execution_count": 23,
   "id": "24a9f995",
   "metadata": {},
   "outputs": [],
   "source": [
    "def generate_prompt(transcript, question=None, video_type=\"general\", chat_history=None):\n",
    "    \"\"\"Generates a prompt for Gemini model for multi-turn chat.\"\"\"\n",
    "    base_prompts = {\n",
    "        \"educational\": \"You are a helpful tutor. Engage in a multi-turn interactive Q&A session based on the transcript.\",\n",
    "        \"motivational\": \"You are a motivational content explainer. Engage in a multi-turn conversation based on the transcript.\",\n",
    "        \"product review/tutorial\": \"You are a product assistant helping users understand tech reviews or tutorials. Engage in a multi-turn conversation based on the transcript.\",\n",
    "        \"news/analysis\": \"You are a factual news analyst. Engage in a multi-turn conversation based on the transcript.\",\n",
    "        \"general\": \"You are a smart assistant that explains things clearly. Engage in a multi-turn conversation based on the transcript.\"\n",
    "    }\n",
    "\n",
    "    role = base_prompts.get(video_type.lower(), base_prompts[\"general\"])\n",
    "\n",
    "    prompt = f\"\"\"{role}\n",
    "Based on the transcript below, answer the user's questions and engage in a conversation.\n",
    "\n",
    "Transcript:\n",
    "{transcript[:12000]}\n",
    "\n",
    "\"\"\"\n",
    "\n",
    "    if chat_history:\n",
    "        for user_msg, bot_msg in chat_history:\n",
    "            prompt += f\"User: {user_msg}\\nBot: {bot_msg}\\n\"\n",
    "\n",
    "    prompt += f\"User: {question}\\nBot: \"\n",
    "\n",
    "    return prompt"
   ]
  },
  {
   "cell_type": "code",
   "execution_count": 24,
   "id": "3b7799cf",
   "metadata": {},
   "outputs": [],
   "source": [
    "def chat_with_transcript(model, transcript, video_type=\"general\"):\n",
    "    \"\"\"Initiates a multi-turn chat with the Gemini model based on a video transcript.\"\"\"\n",
    "    chat_history = []\n",
    "    while True:\n",
    "        question = input(\"User: \")\n",
    "        if question.lower() in [\"exit\", \"quit\", \"bye\"]:\n",
    "            print(\"Bot: Goodbye!\")\n",
    "            break\n",
    "\n",
    "        prompt = generate_prompt(transcript, question, video_type, chat_history=chat_history)\n",
    "        response = model.generate_content(prompt)\n",
    "        answer = response.text\n",
    "        print(f\"Bot: {answer}\")\n",
    "        chat_history.append((question, answer))"
   ]
  },
  {
   "cell_type": "code",
   "execution_count": 25,
   "id": "5acd61be",
   "metadata": {},
   "outputs": [],
   "source": [
    "# 1. Get API Key\n",
    "GOOGLE_API_KEY = input('Enter your Google API Key: ')\n",
    "genai.configure(api_key=GOOGLE_API_KEY)\n",
    "model = genai.GenerativeModel('models/gemini-2.0-flash')"
   ]
  },
  {
   "cell_type": "code",
   "execution_count": 26,
   "id": "dcfed746",
   "metadata": {},
   "outputs": [],
   "source": [
    "# 2. Get YouTube Video URL\n",
    "yt_url = input(\"Enter the YouTube video URL: \")\n",
    "video_id = extract_video_id(yt_url)\n",
    "\n",
    "if not video_id:\n",
    "    print(\"Invalid YouTube URL.\")\n",
    "    exit()"
   ]
  },
  {
   "cell_type": "code",
   "execution_count": 27,
   "id": "f276b819",
   "metadata": {},
   "outputs": [
    {
     "name": "stdout",
     "output_type": "stream",
     "text": [
      "\n",
      "Video Title: How to give permission to your team members in github repository\n",
      "Channel Name: Technology Tips -Tech Tips\n"
     ]
    }
   ],
   "source": [
    "# 3. Display Video Title and Channel Name\n",
    "title, channel = get_video_metadata(video_id)\n",
    "print(f\"\\nVideo Title: {title}\")\n",
    "print(f\"Channel Name: {channel}\")"
   ]
  },
  {
   "cell_type": "code",
   "execution_count": 28,
   "id": "8ae39f7b",
   "metadata": {},
   "outputs": [
    {
     "name": "stdout",
     "output_type": "stream",
     "text": [
      "Transcript Language: English (auto-generated)\n"
     ]
    }
   ],
   "source": [
    "# 4. Show Transcript Language\n",
    "transcript_language = get_best_transcript_language(video_id)\n",
    "print(f\"Transcript Language: {transcript_language}\")"
   ]
  },
  {
   "cell_type": "code",
   "execution_count": 29,
   "id": "34f41311",
   "metadata": {},
   "outputs": [
    {
     "name": "stdout",
     "output_type": "stream",
     "text": [
      "Selected auto-generated transcript: English (auto-generated)\n",
      "Detected Video Type: general\n"
     ]
    }
   ],
   "source": [
    "# 5. Detect Video Type\n",
    "transcript_preview = get_youtube_transcript_text(video_id)[:500].lower()\n",
    "video_type = detect_video_type(transcript_preview)\n",
    "print(f\"Detected Video Type: {video_type}\")"
   ]
  },
  {
   "cell_type": "code",
   "execution_count": 30,
   "id": "66de3599",
   "metadata": {},
   "outputs": [
    {
     "name": "stdout",
     "output_type": "stream",
     "text": [
      "Selected auto-generated transcript: English (auto-generated)\n",
      "\n",
      "Starting chat with the LLM. Type 'exit', 'quit', or 'bye' to end.\n",
      "Bot: The video explains how to give your team members access to your GitHub repositories. It covers signing in (or signing up if you don't have an account), navigating to the repository, finding the \"Collaborators\" section in settings, and adding people using their username, email, or full name. It also demonstrates how to invite people who don't have a GitHub account using their email address.\n",
      "\n",
      "Is there anything specific you'd like to know more about from the video? For example, I could elaborate on the different access levels you can grant collaborators, or explain why this is useful for teamwork.\n",
      "\n",
      "Bot: Goodbye!\n"
     ]
    }
   ],
   "source": [
    "# 6. Start Chat with LLM\n",
    "transcript_text = get_youtube_transcript_text(video_id)\n",
    "if transcript_text and transcript_text != \"No transcript found for this video.\" and transcript_text != \"No transcript text available\":\n",
    "    print(\"\\nStarting chat with the LLM. Type 'exit', 'quit', or 'bye' to end.\")\n",
    "    chat_with_transcript(model, transcript_text, video_type)\n",
    "else:\n",
    "    print(\"Could not start chat because the transcript is not available.\")"
   ]
  }
 ],
 "metadata": {
  "kernelspec": {
   "display_name": "capstone",
   "language": "python",
   "name": "python3"
  },
  "language_info": {
   "codemirror_mode": {
    "name": "ipython",
    "version": 3
   },
   "file_extension": ".py",
   "mimetype": "text/x-python",
   "name": "python",
   "nbconvert_exporter": "python",
   "pygments_lexer": "ipython3",
   "version": "3.13.3"
  }
 },
 "nbformat": 4,
 "nbformat_minor": 5
}
