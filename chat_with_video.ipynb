{
 "cells": [
  {
   "cell_type": "code",
   "execution_count": 5,
   "id": "b4b63dc3",
   "metadata": {},
   "outputs": [
    {
     "name": "stdout",
     "output_type": "stream",
     "text": [
      "Requirement already satisfied: youtube-transcript-api in c:\\users\\shant\\appdata\\local\\programs\\python\\python312\\lib\\site-packages (1.0.3)\n",
      "Requirement already satisfied: defusedxml<0.8.0,>=0.7.1 in c:\\users\\shant\\appdata\\local\\programs\\python\\python312\\lib\\site-packages (from youtube-transcript-api) (0.7.1)\n",
      "Requirement already satisfied: requests in c:\\users\\shant\\appdata\\local\\programs\\python\\python312\\lib\\site-packages (from youtube-transcript-api) (2.32.3)\n",
      "Requirement already satisfied: charset-normalizer<4,>=2 in c:\\users\\shant\\appdata\\local\\programs\\python\\python312\\lib\\site-packages (from requests->youtube-transcript-api) (3.4.0)\n",
      "Requirement already satisfied: idna<4,>=2.5 in c:\\users\\shant\\appdata\\local\\programs\\python\\python312\\lib\\site-packages (from requests->youtube-transcript-api) (3.10)\n",
      "Requirement already satisfied: urllib3<3,>=1.21.1 in c:\\users\\shant\\appdata\\local\\programs\\python\\python312\\lib\\site-packages (from requests->youtube-transcript-api) (1.26.20)\n",
      "Requirement already satisfied: certifi>=2017.4.17 in c:\\users\\shant\\appdata\\local\\programs\\python\\python312\\lib\\site-packages (from requests->youtube-transcript-api) (2024.8.30)\n"
     ]
    },
    {
     "name": "stderr",
     "output_type": "stream",
     "text": [
      "\n",
      "[notice] A new release of pip is available: 24.2 -> 25.0.1\n",
      "[notice] To update, run: python.exe -m pip install --upgrade pip\n"
     ]
    },
    {
     "name": "stdout",
     "output_type": "stream",
     "text": [
      "Requirement already satisfied: google-generativeai in c:\\users\\shant\\appdata\\local\\programs\\python\\python312\\lib\\site-packages (0.8.4)\n",
      "Requirement already satisfied: google-ai-generativelanguage==0.6.15 in c:\\users\\shant\\appdata\\local\\programs\\python\\python312\\lib\\site-packages (from google-generativeai) (0.6.15)\n",
      "Requirement already satisfied: google-api-core in c:\\users\\shant\\appdata\\local\\programs\\python\\python312\\lib\\site-packages (from google-generativeai) (2.24.2)\n",
      "Requirement already satisfied: google-api-python-client in c:\\users\\shant\\appdata\\local\\programs\\python\\python312\\lib\\site-packages (from google-generativeai) (2.166.0)\n",
      "Requirement already satisfied: google-auth>=2.15.0 in c:\\users\\shant\\appdata\\local\\programs\\python\\python312\\lib\\site-packages (from google-generativeai) (2.38.0)\n",
      "Requirement already satisfied: protobuf in c:\\users\\shant\\appdata\\local\\programs\\python\\python312\\lib\\site-packages (from google-generativeai) (5.29.4)\n",
      "Requirement already satisfied: pydantic in c:\\users\\shant\\appdata\\local\\programs\\python\\python312\\lib\\site-packages (from google-generativeai) (2.9.2)\n",
      "Requirement already satisfied: tqdm in c:\\users\\shant\\appdata\\local\\programs\\python\\python312\\lib\\site-packages (from google-generativeai) (4.66.5)\n",
      "Requirement already satisfied: typing-extensions in c:\\users\\shant\\appdata\\local\\programs\\python\\python312\\lib\\site-packages (from google-generativeai) (4.12.2)\n",
      "Requirement already satisfied: proto-plus<2.0.0dev,>=1.22.3 in c:\\users\\shant\\appdata\\local\\programs\\python\\python312\\lib\\site-packages (from google-ai-generativelanguage==0.6.15->google-generativeai) (1.26.1)\n",
      "Requirement already satisfied: googleapis-common-protos<2.0.0,>=1.56.2 in c:\\users\\shant\\appdata\\local\\programs\\python\\python312\\lib\\site-packages (from google-api-core->google-generativeai) (1.69.2)\n",
      "Requirement already satisfied: requests<3.0.0,>=2.18.0 in c:\\users\\shant\\appdata\\local\\programs\\python\\python312\\lib\\site-packages (from google-api-core->google-generativeai) (2.32.3)\n",
      "Requirement already satisfied: cachetools<6.0,>=2.0.0 in c:\\users\\shant\\appdata\\local\\programs\\python\\python312\\lib\\site-packages (from google-auth>=2.15.0->google-generativeai) (5.5.2)\n",
      "Requirement already satisfied: pyasn1-modules>=0.2.1 in c:\\users\\shant\\appdata\\local\\programs\\python\\python312\\lib\\site-packages (from google-auth>=2.15.0->google-generativeai) (0.4.2)\n",
      "Requirement already satisfied: rsa<5,>=3.1.4 in c:\\users\\shant\\appdata\\local\\programs\\python\\python312\\lib\\site-packages (from google-auth>=2.15.0->google-generativeai) (4.9)\n",
      "Requirement already satisfied: httplib2<1.0.0,>=0.19.0 in c:\\users\\shant\\appdata\\local\\programs\\python\\python312\\lib\\site-packages (from google-api-python-client->google-generativeai) (0.22.0)\n",
      "Requirement already satisfied: google-auth-httplib2<1.0.0,>=0.2.0 in c:\\users\\shant\\appdata\\local\\programs\\python\\python312\\lib\\site-packages (from google-api-python-client->google-generativeai) (0.2.0)\n",
      "Requirement already satisfied: uritemplate<5,>=3.0.1 in c:\\users\\shant\\appdata\\local\\programs\\python\\python312\\lib\\site-packages (from google-api-python-client->google-generativeai) (4.1.1)\n",
      "Requirement already satisfied: annotated-types>=0.6.0 in c:\\users\\shant\\appdata\\local\\programs\\python\\python312\\lib\\site-packages (from pydantic->google-generativeai) (0.7.0)\n",
      "Requirement already satisfied: pydantic-core==2.23.4 in c:\\users\\shant\\appdata\\local\\programs\\python\\python312\\lib\\site-packages (from pydantic->google-generativeai) (2.23.4)\n",
      "Requirement already satisfied: colorama in c:\\users\\shant\\appdata\\local\\programs\\python\\python312\\lib\\site-packages (from tqdm->google-generativeai) (0.4.6)\n",
      "Requirement already satisfied: grpcio<2.0dev,>=1.33.2 in c:\\users\\shant\\appdata\\local\\programs\\python\\python312\\lib\\site-packages (from google-api-core[grpc]!=2.0.*,!=2.1.*,!=2.10.*,!=2.2.*,!=2.3.*,!=2.4.*,!=2.5.*,!=2.6.*,!=2.7.*,!=2.8.*,!=2.9.*,<3.0.0dev,>=1.34.1->google-ai-generativelanguage==0.6.15->google-generativeai) (1.71.0)\n",
      "Requirement already satisfied: grpcio-status<2.0.dev0,>=1.33.2 in c:\\users\\shant\\appdata\\local\\programs\\python\\python312\\lib\\site-packages (from google-api-core[grpc]!=2.0.*,!=2.1.*,!=2.10.*,!=2.2.*,!=2.3.*,!=2.4.*,!=2.5.*,!=2.6.*,!=2.7.*,!=2.8.*,!=2.9.*,<3.0.0dev,>=1.34.1->google-ai-generativelanguage==0.6.15->google-generativeai) (1.71.0)\n",
      "Requirement already satisfied: pyparsing!=3.0.0,!=3.0.1,!=3.0.2,!=3.0.3,<4,>=2.4.2 in c:\\users\\shant\\appdata\\local\\programs\\python\\python312\\lib\\site-packages (from httplib2<1.0.0,>=0.19.0->google-api-python-client->google-generativeai) (3.2.0)\n",
      "Requirement already satisfied: pyasn1<0.7.0,>=0.6.1 in c:\\users\\shant\\appdata\\local\\programs\\python\\python312\\lib\\site-packages (from pyasn1-modules>=0.2.1->google-auth>=2.15.0->google-generativeai) (0.6.1)\n",
      "Requirement already satisfied: charset-normalizer<4,>=2 in c:\\users\\shant\\appdata\\local\\programs\\python\\python312\\lib\\site-packages (from requests<3.0.0,>=2.18.0->google-api-core->google-generativeai) (3.4.0)\n",
      "Requirement already satisfied: idna<4,>=2.5 in c:\\users\\shant\\appdata\\local\\programs\\python\\python312\\lib\\site-packages (from requests<3.0.0,>=2.18.0->google-api-core->google-generativeai) (3.10)\n",
      "Requirement already satisfied: urllib3<3,>=1.21.1 in c:\\users\\shant\\appdata\\local\\programs\\python\\python312\\lib\\site-packages (from requests<3.0.0,>=2.18.0->google-api-core->google-generativeai) (1.26.20)\n",
      "Requirement already satisfied: certifi>=2017.4.17 in c:\\users\\shant\\appdata\\local\\programs\\python\\python312\\lib\\site-packages (from requests<3.0.0,>=2.18.0->google-api-core->google-generativeai) (2024.8.30)\n"
     ]
    },
    {
     "name": "stderr",
     "output_type": "stream",
     "text": [
      "\n",
      "[notice] A new release of pip is available: 24.2 -> 25.0.1\n",
      "[notice] To update, run: python.exe -m pip install --upgrade pip\n"
     ]
    }
   ],
   "source": [
    "!pip install youtube-transcript-api\n",
    "!pip install google-generativeai"
   ]
  },
  {
   "cell_type": "code",
   "execution_count": 7,
   "id": "45b1303c",
   "metadata": {},
   "outputs": [
    {
     "name": "stdout",
     "output_type": "stream",
     "text": [
      "Collecting ipywidgets\n",
      "  Downloading ipywidgets-8.1.6-py3-none-any.whl.metadata (2.4 kB)\n",
      "Requirement already satisfied: comm>=0.1.3 in c:\\users\\shant\\appdata\\roaming\\python\\python312\\site-packages (from ipywidgets) (0.2.2)\n",
      "Requirement already satisfied: ipython>=6.1.0 in c:\\users\\shant\\appdata\\roaming\\python\\python312\\site-packages (from ipywidgets) (8.31.0)\n",
      "Requirement already satisfied: traitlets>=4.3.1 in c:\\users\\shant\\appdata\\local\\programs\\python\\python312\\lib\\site-packages (from ipywidgets) (5.14.3)\n",
      "Collecting widgetsnbextension~=4.0.14 (from ipywidgets)\n",
      "  Downloading widgetsnbextension-4.0.14-py3-none-any.whl.metadata (1.6 kB)\n",
      "Collecting jupyterlab_widgets~=3.0.14 (from ipywidgets)\n",
      "  Downloading jupyterlab_widgets-3.0.14-py3-none-any.whl.metadata (4.1 kB)\n",
      "Requirement already satisfied: colorama in c:\\users\\shant\\appdata\\local\\programs\\python\\python312\\lib\\site-packages (from ipython>=6.1.0->ipywidgets) (0.4.6)\n",
      "Requirement already satisfied: decorator in c:\\users\\shant\\appdata\\roaming\\python\\python312\\site-packages (from ipython>=6.1.0->ipywidgets) (5.1.1)\n",
      "Requirement already satisfied: jedi>=0.16 in c:\\users\\shant\\appdata\\roaming\\python\\python312\\site-packages (from ipython>=6.1.0->ipywidgets) (0.19.2)\n",
      "Requirement already satisfied: matplotlib-inline in c:\\users\\shant\\appdata\\roaming\\python\\python312\\site-packages (from ipython>=6.1.0->ipywidgets) (0.1.7)\n",
      "Requirement already satisfied: prompt_toolkit<3.1.0,>=3.0.41 in c:\\users\\shant\\appdata\\roaming\\python\\python312\\site-packages (from ipython>=6.1.0->ipywidgets) (3.0.50)\n",
      "Requirement already satisfied: pygments>=2.4.0 in c:\\users\\shant\\appdata\\local\\programs\\python\\python312\\lib\\site-packages (from ipython>=6.1.0->ipywidgets) (2.18.0)\n",
      "Requirement already satisfied: stack_data in c:\\users\\shant\\appdata\\roaming\\python\\python312\\site-packages (from ipython>=6.1.0->ipywidgets) (0.6.3)\n",
      "Requirement already satisfied: parso<0.9.0,>=0.8.4 in c:\\users\\shant\\appdata\\roaming\\python\\python312\\site-packages (from jedi>=0.16->ipython>=6.1.0->ipywidgets) (0.8.4)\n",
      "Requirement already satisfied: wcwidth in c:\\users\\shant\\appdata\\roaming\\python\\python312\\site-packages (from prompt_toolkit<3.1.0,>=3.0.41->ipython>=6.1.0->ipywidgets) (0.2.13)\n",
      "Requirement already satisfied: executing>=1.2.0 in c:\\users\\shant\\appdata\\roaming\\python\\python312\\site-packages (from stack_data->ipython>=6.1.0->ipywidgets) (2.1.0)\n",
      "Requirement already satisfied: asttokens>=2.1.0 in c:\\users\\shant\\appdata\\roaming\\python\\python312\\site-packages (from stack_data->ipython>=6.1.0->ipywidgets) (3.0.0)\n",
      "Requirement already satisfied: pure-eval in c:\\users\\shant\\appdata\\roaming\\python\\python312\\site-packages (from stack_data->ipython>=6.1.0->ipywidgets) (0.2.3)\n",
      "Downloading ipywidgets-8.1.6-py3-none-any.whl (139 kB)\n",
      "Downloading jupyterlab_widgets-3.0.14-py3-none-any.whl (213 kB)\n",
      "Downloading widgetsnbextension-4.0.14-py3-none-any.whl (2.2 MB)\n",
      "   ---------------------------------------- 0.0/2.2 MB ? eta -:--:--\n",
      "   ---- ----------------------------------- 0.3/2.2 MB ? eta -:--:--\n",
      "   --------- ------------------------------ 0.5/2.2 MB 1.3 MB/s eta 0:00:02\n",
      "   ------------------- -------------------- 1.0/2.2 MB 1.6 MB/s eta 0:00:01\n",
      "   ---------------------------- ----------- 1.6/2.2 MB 2.0 MB/s eta 0:00:01\n",
      "   ---------------------------------------- 2.2/2.2 MB 2.1 MB/s eta 0:00:00\n",
      "Installing collected packages: widgetsnbextension, jupyterlab_widgets, ipywidgets\n",
      "Successfully installed ipywidgets-8.1.6 jupyterlab_widgets-3.0.14 widgetsnbextension-4.0.14\n",
      "Note: you may need to restart the kernel to use updated packages.\n"
     ]
    },
    {
     "name": "stderr",
     "output_type": "stream",
     "text": [
      "\n",
      "[notice] A new release of pip is available: 24.2 -> 25.0.1\n",
      "[notice] To update, run: python.exe -m pip install --upgrade pip\n"
     ]
    }
   ],
   "source": [
    "pip install ipywidgets"
   ]
  },
  {
   "cell_type": "code",
   "execution_count": 8,
   "id": "4bd77ff1",
   "metadata": {},
   "outputs": [],
   "source": [
    "from youtube_transcript_api import YouTubeTranscriptApi\n",
    "from urllib.parse import urlparse, parse_qs\n",
    "import google.generativeai as genai"
   ]
  },
  {
   "cell_type": "code",
   "execution_count": 9,
   "id": "7a6b5f99",
   "metadata": {},
   "outputs": [],
   "source": [
    "def get_all_transcripts(video_id):\n",
    "    try:\n",
    "        transcript_list = YouTubeTranscriptApi.list_transcripts(video_id)\n",
    "        all_transcripts = []\n",
    "        for transcript in transcript_list:\n",
    "            all_transcripts.append(transcript.language_code)\n",
    "        return all_transcripts\n",
    "    except Exception as e:\n",
    "        return f\"Error fetching transcripts: {e}\""
   ]
  },
  {
   "cell_type": "code",
   "execution_count": 10,
   "id": "7680cdcd",
   "metadata": {},
   "outputs": [],
   "source": [
    "def get_youtube_transcript(youtube_url):\n",
    "    video_id = parse_qs(urlparse(youtube_url).query).get(\"v\")\n",
    "    if not video_id:\n",
    "        raise ValueError(\"Invalid YouTube URL. Couldn't find video ID.\")\n",
    "    video_id = video_id[0]\n",
    "    try:\n",
    "        transcript_data = YouTubeTranscriptApi.get_transcript(video_id, languages=get_all_transcripts(video_id))\n",
    "        transcript = \" \".join([t[\"text\"] for t in transcript_data])\n",
    "        return transcript\n",
    "    except Exception as e:\n",
    "        return f\"Error fetching transcript: {e}\""
   ]
  },
  {
   "cell_type": "code",
   "execution_count": 11,
   "id": "a80b2103",
   "metadata": {},
   "outputs": [],
   "source": [
    "# Replace with a real YouTube URL.\n",
<<<<<<< HEAD
    "yt_url = input('Enter The Youtube URL')\n",
=======
    "yt_url = input(\"Enter the Youtube video Link:\")\n",
>>>>>>> e4e2f73e2648f55177fbcf245937ecc3ba119e50
    "\n",
    "# Fetch the transcript BEFORE using it in other functions\n",
    "transcript = get_youtube_transcript(yt_url)\n",
    "\n",
    "# Safely access Gemini API Key\n",
    "GOOGLE_API_KEY = input('Enter your Google API Key')\n",
    "\n",
    "genai.configure(api_key=GOOGLE_API_KEY)\n",
    "\n",
    "# Initialize the Gemini Pro model\n",
    "model = genai.GenerativeModel('models/gemini-2.0-flash')"
   ]
  },
  {
   "cell_type": "code",
   "execution_count": 12,
   "id": "2e3ee9dc",
   "metadata": {},
   "outputs": [],
   "source": [
    "def generate_prompt(transcript, question=None, video_type=\"general\", is_hindi=False, task=\"chat\", chat_history=None):\n",
    "    \"\"\"\n",
    "    Generates a prompt for Gemini model based on transcript type and task for multi-turn chat.\n",
    "\n",
    "    Parameters:\n",
    "    - transcript: str, the video transcript\n",
    "    - question: str, the user's question\n",
    "    - video_type: str, e.g., 'educational', 'motivational', etc.\n",
    "    - is_hindi: bool, whether the transcript is in Hindi\n",
    "    - task: str, should be 'chat'\n",
    "    - chat_history: list of tuples (user_message, bot_response)\n",
    "\n",
    "    Returns:\n",
    "    - str: Formatted prompt for Gemini\n",
    "    \"\"\"\n",
    "    base_prompts = {\n",
    "        \"educational\": \"You are a helpful tutor. Engage in a multi-turn interactive Q&A session based on the transcript.\",\n",
    "        \"motivational\": \"You are a motivational content explainer. Engage in a multi-turn conversation based on the transcript.\",\n",
    "        \"product\": \"You are a product assistant helping users understand tech reviews or tutorials. Engage in a multi-turn conversation based on the transcript.\",\n",
    "        \"news\": \"You are a factual news analyst. Engage in a multi-turn conversation based on the transcript.\",\n",
    "        \"general\": \"You are a smart assistant that explains things clearly. Engage in a multi-turn conversation based on the transcript.\"\n",
    "    }\n",
    "\n",
    "    role = base_prompts.get(video_type.lower(), base_prompts[\"general\"])\n",
    "\n",
    "    prompt = f\"\"\"{role}\n",
    "Based on the transcript below, answer the user's questions and engage in a conversation.\n",
    "\n",
    "Transcript:\n",
    "{transcript[:12000]}\n",
    "\n",
    "\"\"\"\n",
    "\n",
    "    if chat_history:\n",
    "        for user_msg, bot_msg in chat_history:\n",
    "            prompt += f\"User: {user_msg}\\nBot: {bot_msg}\\n\"\n",
    "\n",
    "    prompt += f\"User: {question}\\nBot: \"\n",
    "\n",
    "    return prompt"
   ]
  },
  {
   "cell_type": "code",
   "execution_count": null,
   "id": "57de7695",
   "metadata": {},
   "outputs": [],
   "source": [
    "def chat_with_transcript(model, transcript, video_type=\"general\"):\n",
    "    \"\"\"\n",
    "    Initiates a multi-turn chat with the Gemini model based on a video transcript.\n",
    "\n",
    "    Parameters:\n",
    "    - model: Gemini model object\n",
    "    - transcript: full transcript from video\n",
    "    - video_type: genre of video e.g., \"motivational\", \"educational\", \"news\", etc.\n",
    "\n",
    "    Returns:\n",
    "    - None (prints the chat interaction)\n",
    "    \"\"\"\n",
    "    chat_history = []\n",
    "    while True:\n",
    "        question = input(\"User: \")\n",
    "        if question.lower() in [\"exit\", \"quit\", \"bye\"]:\n",
    "            print(\"Bot: Goodbye!\")\n",
    "            break\n",
    "\n",
    "        prompt = generate_prompt(transcript, question, video_type, chat_history=chat_history)\n",
    "        response = model.generate_content(prompt)\n",
    "        answer = response.text\n",
    "        # print(f\"User:{question}\\n\")\n",
    "        print(f\"Bot: {answer}\")\n",
    "        chat_history.append((question, answer))"
   ]
  },
  {
   "cell_type": "code",
   "execution_count": 15,
   "id": "82c8ecf0",
   "metadata": {},
   "outputs": [],
   "source": [
    "def detect_video_type(transcript, model):\n",
    "    prompt = f\"\"\"\n",
    "You are a helpful assistant. Classify the following YouTube video transcript into one of these categories ONLY:\n",
    "\"educational\", \"motivational\", \"news\", \"product\", or \"general\".\n",
    "\n",
    "Respond with only the single category name. Do not include any explanation.\n",
    "\n",
    "Transcript:\n",
    "{transcript[:12000]}\n",
    "\n",
    "Category:\n",
    "\"\"\"\n",
    "    response = model.generate_content(prompt)\n",
    "    return response.text.strip().lower()\n"
   ]
  },
  {
   "cell_type": "code",
   "execution_count": 17,
   "id": "7f98b460",
   "metadata": {},
   "outputs": [
    {
     "name": "stdout",
     "output_type": "stream",
     "text": [
      "Video Genre: educational\n",
      "User: Hello\n",
      "Bot: Hello! How can I help you learn about the transcript we just reviewed? Do you have any questions about real-time data streaming, Apache Kafka, or anything else discussed?\n",
      "\n",
      "User: What are other technologies needed to be learnt along with this \n",
      "Bot: That's a great question! To best answer that, let's consider different roles and what they might need to learn in conjunction with Apache Kafka.  Are you interested in learning about Kafka from a particular perspective, such as a developer, a data engineer, or perhaps a DevOps engineer? Or are you looking for a more general overview?\n",
      "\n",
      "Bot: Goodbye!\n"
     ]
    }
   ],
   "source": [
    "video_type = detect_video_type(transcript, model)\n",
    "print(\"Video Genre:\", video_type)\n",
    "# Usage\n",
    "video_type = \"educational\"  # Change to \"motivational\", \"news\", \"product\", or \"general\"\n",
    "chat_with_transcript(model, transcript, video_type)"
   ]
  }
 ],
 "metadata": {
  "kernelspec": {
   "display_name": "Python 3",
   "language": "python",
   "name": "python3"
  },
  "language_info": {
   "codemirror_mode": {
    "name": "ipython",
    "version": 3
   },
   "file_extension": ".py",
   "mimetype": "text/x-python",
   "name": "python",
   "nbconvert_exporter": "python",
   "pygments_lexer": "ipython3",
   "version": "3.12.0"
  }
 },
 "nbformat": 4,
 "nbformat_minor": 5
}
